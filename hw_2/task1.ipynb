{
  "nbformat": 4,
  "nbformat_minor": 0,
  "metadata": {
    "colab": {
      "provenance": []
    },
    "kernelspec": {
      "name": "python3",
      "display_name": "Python 3"
    },
    "language_info": {
      "name": "python"
    }
  },
  "cells": [
    {
      "cell_type": "markdown",
      "source": [
        "Создайте класс Chocolate (для определения шоколадного батончика), принимающий следующие аргументы при инициализации: цена батончика (тип - float), добавка к шоколаду (необязательный аргумент, тип - str) - 2 балла\n",
        "При инициализации необходимо проверять, чтобы цена батончика была больше нуля, если цена меньше нуля необходимо вызывать исключение ValueError - 2 балла\n",
        "Реализуйте метод show_my_chocolate, выводящий на печать \"Шоколадный батончик, добавка: {ДОБАВКА}\" в случае наличия добавки, а иначе должна отобразиться следующая фраза: \"Обычный шоколадный батончик\" - 2 балла\n",
        "Переопределите метод __str__, который при применении функции print() к объекты класса Chocolate должен возвращать строку \"Шоколадный батончик, <ЦЕНА> рублей\" - 2 балла\n",
        "Продемонстрируйте использование соответствующего функционала вашего класса, создав несколько объектов Chocolate с различными аргументами - 2 балла"
      ],
      "metadata": {
        "id": "4pt7gxxRJhzt"
      }
    },
    {
      "cell_type": "code",
      "execution_count": null,
      "metadata": {
        "id": "iwRb5CrVJfLY"
      },
      "outputs": [],
      "source": [
        "class Chocolate:\n",
        "  def __init__(self, cost, toping = None):\n",
        "    if cost >=0:\n",
        "      self.cost = cost\n",
        "    else:\n",
        "      raise ValueError('Меньше 0!')\n",
        "    self.toping = toping\n",
        "\n",
        "  def show_my_chocolate(self):\n",
        "    if self.toping==None:\n",
        "       print('Обычный шоколадный батончик')\n",
        "    else:\n",
        "      print(f'Шоколадный батончик, добавка:{self.toping}')\n",
        "\n",
        "  def __str__(self): # Преобразование к строке str(obj)\n",
        "    return f'Шоколадный батончик,{self.cost} рублей'\n"
      ]
    },
    {
      "cell_type": "code",
      "source": [
        "Choc=Chocolate(1.5,'малина')"
      ],
      "metadata": {
        "id": "OY1b7lEMb0IJ"
      },
      "execution_count": null,
      "outputs": []
    },
    {
      "cell_type": "code",
      "source": [
        "Choc0=Chocolate(-2,'вишня')"
      ],
      "metadata": {
        "colab": {
          "base_uri": "https://localhost:8080/",
          "height": 263
        },
        "id": "-PnmPcSHT8fM",
        "outputId": "aec873c1-f222-4d90-c80c-5629f5dfc11a"
      },
      "execution_count": null,
      "outputs": [
        {
          "output_type": "error",
          "ename": "ValueError",
          "evalue": "Меньше 0!",
          "traceback": [
            "\u001b[0;31m---------------------------------------------------------------------------\u001b[0m",
            "\u001b[0;31mValueError\u001b[0m                                Traceback (most recent call last)",
            "\u001b[0;32m<ipython-input-148-2517333c5b3a>\u001b[0m in \u001b[0;36m<cell line: 0>\u001b[0;34m()\u001b[0m\n\u001b[0;32m----> 1\u001b[0;31m \u001b[0mChoc0\u001b[0m\u001b[0;34m=\u001b[0m\u001b[0mChocolate\u001b[0m\u001b[0;34m(\u001b[0m\u001b[0;34m-\u001b[0m\u001b[0;36m2\u001b[0m\u001b[0;34m,\u001b[0m\u001b[0;34m'вишня'\u001b[0m\u001b[0;34m)\u001b[0m\u001b[0;34m\u001b[0m\u001b[0;34m\u001b[0m\u001b[0m\n\u001b[0m",
            "\u001b[0;32m<ipython-input-135-a7592d425928>\u001b[0m in \u001b[0;36m__init__\u001b[0;34m(self, cost, toping)\u001b[0m\n\u001b[1;32m      4\u001b[0m       \u001b[0mself\u001b[0m\u001b[0;34m.\u001b[0m\u001b[0mcost\u001b[0m \u001b[0;34m=\u001b[0m \u001b[0mcost\u001b[0m\u001b[0;34m\u001b[0m\u001b[0;34m\u001b[0m\u001b[0m\n\u001b[1;32m      5\u001b[0m     \u001b[0;32melse\u001b[0m\u001b[0;34m:\u001b[0m\u001b[0;34m\u001b[0m\u001b[0;34m\u001b[0m\u001b[0m\n\u001b[0;32m----> 6\u001b[0;31m       \u001b[0;32mraise\u001b[0m \u001b[0mValueError\u001b[0m\u001b[0;34m(\u001b[0m\u001b[0;34m'Меньше 0!'\u001b[0m\u001b[0;34m)\u001b[0m\u001b[0;34m\u001b[0m\u001b[0;34m\u001b[0m\u001b[0m\n\u001b[0m\u001b[1;32m      7\u001b[0m     \u001b[0mself\u001b[0m\u001b[0;34m.\u001b[0m\u001b[0mtoping\u001b[0m \u001b[0;34m=\u001b[0m \u001b[0mtoping\u001b[0m\u001b[0;34m\u001b[0m\u001b[0;34m\u001b[0m\u001b[0m\n\u001b[1;32m      8\u001b[0m \u001b[0;34m\u001b[0m\u001b[0m\n",
            "\u001b[0;31mValueError\u001b[0m: Меньше 0!"
          ]
        }
      ]
    },
    {
      "cell_type": "code",
      "source": [
        "Choc0=Chocolate(10,'вишня')\n",
        "Choc0.show_my_chocolate()"
      ],
      "metadata": {
        "colab": {
          "base_uri": "https://localhost:8080/"
        },
        "id": "YvJ8WhZVQT8-",
        "outputId": "3f66b915-27b2-445d-c131-a91649298426"
      },
      "execution_count": null,
      "outputs": [
        {
          "output_type": "stream",
          "name": "stdout",
          "text": [
            "Шоколадный батончик, добавка:вишня\n"
          ]
        }
      ]
    },
    {
      "cell_type": "code",
      "source": [
        "Choc4=Chocolate(7654)\n",
        "Choc4.show_my_chocolate()"
      ],
      "metadata": {
        "colab": {
          "base_uri": "https://localhost:8080/"
        },
        "id": "IiRQEUMwTD8Y",
        "outputId": "e3057cf8-ba3d-4a4b-d647-e23059b7d0cc"
      },
      "execution_count": null,
      "outputs": [
        {
          "output_type": "stream",
          "name": "stdout",
          "text": [
            "Обычный шоколадный батончик\n"
          ]
        }
      ]
    },
    {
      "cell_type": "code",
      "source": [
        "Choc1=Chocolate(20,'белый')\n",
        "print(Choc1)"
      ],
      "metadata": {
        "colab": {
          "base_uri": "https://localhost:8080/"
        },
        "id": "QElMwPZ4L-Mk",
        "outputId": "574cf1d4-2896-4ee1-abd3-a6255233ce56"
      },
      "execution_count": null,
      "outputs": [
        {
          "output_type": "stream",
          "name": "stdout",
          "text": [
            "Шоколадный батончик,20 рублей\n"
          ]
        }
      ]
    }
  ]
}